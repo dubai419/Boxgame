def goto(linenum):
    global line
    line = linenum

a=0
b=0
c=0
d=0
e=0
f=0
g=0
h=0

z=5

r1=0
r2=0
r3=0
r4=0
r5=0
r6=0
r7=0
r8=0
mVal1 = 0
descr1 = """My First Game
Fill the blank blocks while every 3 blocks are equal to 15
Duplicate or empty block are not allowed

|-------|-------|-------|
|       |       |       |
|   a   |   b   |   c   |
|       |       |       |
|-------|-------|-------|
|       |       |       |
|   d   |   5   |   e   |
|       |       |       |
|-------|-------|-------|
|       |       |       |
|   f   |   g   |   h   |
|       |       |       |
|-------|-------|-------|

First select a block letter then enter unique number :"""
print(descr1)
line = 1

mList = [ 'a' , 'b' , 'c' , 'd' , 'e' , 'f' , 'g' , 'h']

for l in mList:
    if line == 1:
        input1 = input("Enter Block " + mList[mVal1] +": ")
        
        if len(input1) > 1:
            print("Only single number allowed")
            goto(1)
            mList.append(mList[mVal1])
        elif len(input1) < 1:
            print("Blank value not allowed")
            goto(1)
            mList.append(mList[mVal1])
        
        else:
    
            if int(input1)==a or int(input1)==b or int(input1)==c or int(input1)==d or int(input1)==e or int(input1)==f or int(input1)==g or int(input1)==h or int(input1)==5:
                print("Duplicate not allowed")
                goto(1)
                mList.append(mList[mVal1])
            else:               
                if mList[mVal1]=='a':
                    a=int(input1)
                elif mList[mVal1]=='b':
                    b=int(input1)
                elif mList[mVal1]=='c':
                    c=int(input1)
                elif mList[mVal1]=='d':
                    d=int(input1)
                elif mList[mVal1]=='e':
                    e=int(input1)
                elif mList[mVal1]=='f':
                    f=int(input1)
                elif mList[mVal1]=='g':
                    g=int(input1)
                elif mList[mVal1]=='h':
                    h=int(input1)
                print("|-------|-------|-------|/n")
                print("|       |       |       |/n")
                print("|   "+str(a)+"   |   "+str(b)+"   |   "+str(c)+"   |/n")
                print("|       |       |       |/n")
                print("|-------|-------|-------|/n")
                print("|       |       |       |/n")
                print("|   "+str(d)+"   |   5   |   "+str(e)+"   |/n")
                print("|       |       |       |/n")
                print("|-------|-------|-------|/n")
                print("|       |       |       |/n")
                print("|   "+str(f)+"   |   "+str(g)+"   |   "+str(h)+"   |/n")
                print("|       |       |       |/n")
                print("|-------|-------|-------|/n")
                
                mVal1=mVal1+1
                
                if int(a)>0 and int(b)>0 and int(c)>0 and int(d)>0 and int(e)>0 and int(f)>0 and int(g)>0 and int(h)>0:
                    
                    r1=int(a)+int(b)+int(c)
                    r2=int(d)+int(e)+z
                    r3=int(f)+int(g)+int(h)
                    r4=int(a)+int(d)+int(f)
                    r5=int(b)+z+int(g)
                    r6=int(c)+int(e)+int(h)
                    r7=int(c)+z+int(f)
                    r8=int(a)+int(h)+z
                    print(str(r1)+"-"+str(r2)+"-"+str(r3)+"-"+str(r4)+"-"+str(r5)+"-"+str(r6)+"-"+str(r7)+"-"+str(r8))
                    if r1==15 and r2==15 and r3==15 and r4==15 and r5==15 and r6==15 and r7==15 and r8==15:
                        print("###################################")
                        print("####      Congratulation's     ####")
                        print("####          You Won          ####")
                        print("###################################")
                        break
                    else:
                        print("###################################")
                        print("####      Sorry Try Again      ####")
                        print("###################################")
                        break

        



    
    